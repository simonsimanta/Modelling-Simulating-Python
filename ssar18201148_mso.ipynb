{
  "nbformat": 4,
  "nbformat_minor": 0,
  "metadata": {
    "kernelspec": {
      "display_name": "Python 3",
      "language": "python",
      "name": "python3"
    },
    "language_info": {
      "codemirror_mode": {
        "name": "ipython",
        "version": 3
      },
      "file_extension": ".py",
      "mimetype": "text/x-python",
      "name": "python",
      "nbconvert_exporter": "python",
      "pygments_lexer": "ipython3",
      "version": "3.7.6"
    },
    "colab": {
      "name": "ssar18201148_mso.ipynb",
      "provenance": []
    }
  },
  "cells": [
    {
      "cell_type": "markdown",
      "metadata": {
        "id": "DpKmnk1mej3p"
      },
      "source": [
        "# Project: Modelling, Simulating and Optimisating  train plans for the HS2 line from London to Birmingham\n",
        "\n",
        "### Name: Simanta Sarkar\n",
        "### Student ID: x18201148\n",
        "### Course: MSc in Data Analytics\n",
        "### Module: Modelling, Simulation and Optimisation (H9MSO)"
      ]
    },
    {
      "cell_type": "markdown",
      "metadata": {
        "id": "Ir6vlDKgfy3J"
      },
      "source": [
        "# Problem Statement\n",
        "\n",
        "Simulating and optimising the London-Birmingham section of the high-speed line to decide on number of signalling blocks and trains running per hour.\n",
        "\n",
        "# The Context\n",
        "\n",
        "## Train information\n",
        "The HS2 line connecting London and Birmingham has planned to operate high-speed train with the following features:\n",
        "*   Acceleration: 0.72m/s**2 (approx same as commuter train)\n",
        "*   Emmergency deceleration: 2.5m/s**2\n",
        "*   Optimal deceleration: 0.36m/s**2\n",
        "*   Max. travelling speed: 83.3m/s\n",
        "*   Time taken to accelerate to maximum speed is 115.7s travelling 4,820m.\n",
        "*   At optimal decelaration it takes 231.4s to travel 9,640m.\n",
        "\n",
        "## Signaling blocks\n",
        "The railway line consists of sequential signaling blocks.A train enters a block only if there is no other train. The entry singal is green when there is no train in the block and turns red with entry of a train. The signal switches to green post 5 sec exit of the train end.\n",
        "\n",
        "\n",
        "\n",
        "\n",
        "\n",
        "\n",
        "\n",
        "\n"
      ]
    },
    {
      "cell_type": "code",
      "metadata": {
        "id": "3SVEZfqyedyZ"
      },
      "source": [
        "import pandas as pd\n",
        "import matplotlib as mpl\n",
        "import matplotlib.pyplot as plt\n",
        "import scipy.stats as stats\n",
        "import math\n",
        "import numpy as np\n",
        "import string\n",
        "\n",
        "import simpy\n",
        "import simpy.events as evt"
      ],
      "execution_count": null,
      "outputs": []
    },
    {
      "cell_type": "markdown",
      "metadata": {
        "id": "0U5Gw4BRhStW"
      },
      "source": [
        "# Data Preparation\n",
        "\n",
        "## Data Given\n",
        "The railway line consists of four train stations namely London Euston, London Old Oak Common, Birmingham Interchange and Birmingham Curzon Street. Travel time between the stations are 5min, 31mins and 9mins respectively. Additionally, distance between London Old Oak Common Station and Birmingham Interchange Station is given as 145km.\n",
        "\n",
        "## Calculation\n",
        "Total distance required to travel in accelerating to attain maximum velocity and deccelerating to reach a following is (4,820m + 9,640m = 14460m) To calculate the distance between the respective stations two situations are taken into consideration.\n",
        "1.   Distance more than 14460m between two stations: The train accelerates to reach the maximum velocity. Travels a certain distance at constant velocity. Then deccelerates to reach the following station.\n",
        "2. Distance less than 14460m between two stations: The train accelerates upto one-third of the run time and starts to deccelerated without attaining the maximum speed.  \n",
        "\n",
        "\n"
      ]
    },
    {
      "cell_type": "code",
      "metadata": {
        "id": "pxjuCCeXedyg"
      },
      "source": [
        "def timeTo( d,A=0.72,D=0.32, maxV=83.3):\n",
        "    \"\"\"\n",
        "    A       constant acceleration, m/s²\n",
        "    D       constant deceleration, m/s²\n",
        "    maxV    maximumum velocity, m/s\n",
        "    d       distance, km\n",
        "    return  time in seconds required to travel\n",
        "    \"\"\"\n",
        "    tA = maxV/A          # time to accelerate to maxV\n",
        "    tD = maxV/D          # time to decelerate to 0 from maxV\n",
        "    dA = (A*tA*tA+D*tD*tD)/2                # distance traveled during acceleration from 0 to maxV and back to 0\n",
        "    print(tA,tD,dA)\n",
        "    if (d < dA):                # train never reaches full speed?\n",
        "        return np.sqrt(2.0*(d/3)/A) + np.sqrt(2.0*(2*d/3)/D)        # time needed to accelerate to 1/3rd point then decelerate to destination\n",
        "    else:\n",
        "        return tA+tD + (d-dA)/maxV   # time to accelerate to maxV plus travel at maxV plus decelerate to destination"
      ],
      "execution_count": null,
      "outputs": []
    },
    {
      "cell_type": "code",
      "metadata": {
        "id": "2KAyqcGNedyk",
        "outputId": "a0553a95-20d0-4816-c131-8d703b5062b5"
      },
      "source": [
        "timeTo(140481.97916666666,.72,.36, 83.3)/60"
      ],
      "execution_count": null,
      "outputs": [
        {
          "output_type": "stream",
          "text": [
            "115.69444444444444 231.38888888888889 14456.020833333334\n"
          ],
          "name": "stdout"
        },
        {
          "output_type": "execute_result",
          "data": {
            "text/plain": [
              "31.0"
            ]
          },
          "metadata": {
            "tags": []
          },
          "execution_count": 183
        }
      ]
    },
    {
      "cell_type": "code",
      "metadata": {
        "id": "5xxs9_3Yedyq"
      },
      "source": [
        "def disTo(T,A=0.72,D=0.32, maxV=83.3):\n",
        "    \"\"\"\n",
        "    A       constant acceleration, m/s²\n",
        "    D       constant deceleration, m/s²\n",
        "    maxV    maximumum velocity, m/s\n",
        "    d       distance, km\n",
        "    return  time in seconds required to travel\n",
        "    \"\"\"\n",
        "    tA = maxV/A          # time to accelerate to maxV\n",
        "    tD = maxV/D          # time to decelerate to 0 from maxV\n",
        "    t=tA+tD              # total acc + dec\n",
        "    print(t)\n",
        "    dA = (A*tA*tA+D*tD*tD)/2                # distance traveled during acceleration from 0 to maxV and back to 0\n",
        "    if (T < t):                # train never reaches full speed?\n",
        "        return (A*(T/3)*(T/3) + D*(2*T/3)*(2*T/3))/2        # time needed to accelerate to 1/3rd-way point then decelerate to destination\n",
        "    else:\n",
        "        return dA + (T-t)*maxV   # time to accelerate to maxV plus travel at maxV plus decelerate to destination"
      ],
      "execution_count": null,
      "outputs": []
    },
    {
      "cell_type": "code",
      "metadata": {
        "id": "Y6tcFa7Redyw",
        "outputId": "ba0996de-37aa-4540-a290-a1559693924c"
      },
      "source": [
        "disTo(60*31,.72,.36, 83.3)"
      ],
      "execution_count": null,
      "outputs": [
        {
          "output_type": "stream",
          "text": [
            "347.0833333333333\n"
          ],
          "name": "stdout"
        },
        {
          "output_type": "execute_result",
          "data": {
            "text/plain": [
              "140481.97916666666"
            ]
          },
          "metadata": {
            "tags": []
          },
          "execution_count": 185
        }
      ]
    },
    {
      "cell_type": "markdown",
      "metadata": {
        "id": "02uoZL-LiFEO"
      },
      "source": [
        "# Dataset\n",
        "The attributes of the datasets are starting point(From), destination(To), distance between the stations and the run time."
      ]
    },
    {
      "cell_type": "code",
      "metadata": {
        "id": "jxjgMCmpedy0",
        "outputId": "2ef292de-a72d-458f-a84e-05cbb7f652f5"
      },
      "source": [
        "import pandas as pd \n",
        "  \n",
        "# intialise data of lists. \n",
        "data = {'From':['London_Euston', 'London_Old_Oak_Common', 'Birmingham_Interchange'], 'To':['London_Old_Oak_Common', 'Birmingham_Interchange', 'Birmingham_Curzon_Street'],'Distance':[10800.0, 145000.0, 30525.979166666668],'Run Time':[300.0, 1914.2379451780712, 540.0]} \n",
        "  \n",
        "# Create DataFrame \n",
        "dtt = pd.DataFrame(data) \n",
        "  \n",
        "# Print the output. \n",
        "dtt"
      ],
      "execution_count": null,
      "outputs": [
        {
          "output_type": "execute_result",
          "data": {
            "text/html": [
              "<div>\n",
              "<style scoped>\n",
              "    .dataframe tbody tr th:only-of-type {\n",
              "        vertical-align: middle;\n",
              "    }\n",
              "\n",
              "    .dataframe tbody tr th {\n",
              "        vertical-align: top;\n",
              "    }\n",
              "\n",
              "    .dataframe thead th {\n",
              "        text-align: right;\n",
              "    }\n",
              "</style>\n",
              "<table border=\"1\" class=\"dataframe\">\n",
              "  <thead>\n",
              "    <tr style=\"text-align: right;\">\n",
              "      <th></th>\n",
              "      <th>From</th>\n",
              "      <th>To</th>\n",
              "      <th>Distance</th>\n",
              "      <th>Run Time</th>\n",
              "    </tr>\n",
              "  </thead>\n",
              "  <tbody>\n",
              "    <tr>\n",
              "      <th>0</th>\n",
              "      <td>London_Euston</td>\n",
              "      <td>London_Old_Oak_Common</td>\n",
              "      <td>10800.000000</td>\n",
              "      <td>300.000000</td>\n",
              "    </tr>\n",
              "    <tr>\n",
              "      <th>1</th>\n",
              "      <td>London_Old_Oak_Common</td>\n",
              "      <td>Birmingham_Interchange</td>\n",
              "      <td>145000.000000</td>\n",
              "      <td>1914.237945</td>\n",
              "    </tr>\n",
              "    <tr>\n",
              "      <th>2</th>\n",
              "      <td>Birmingham_Interchange</td>\n",
              "      <td>Birmingham_Curzon_Street</td>\n",
              "      <td>30525.979167</td>\n",
              "      <td>540.000000</td>\n",
              "    </tr>\n",
              "  </tbody>\n",
              "</table>\n",
              "</div>"
            ],
            "text/plain": [
              "                     From                        To       Distance  \\\n",
              "0           London_Euston     London_Old_Oak_Common   10800.000000   \n",
              "1   London_Old_Oak_Common    Birmingham_Interchange  145000.000000   \n",
              "2  Birmingham_Interchange  Birmingham_Curzon_Street   30525.979167   \n",
              "\n",
              "      Run Time  \n",
              "0   300.000000  \n",
              "1  1914.237945  \n",
              "2   540.000000  "
            ]
          },
          "metadata": {
            "tags": []
          },
          "execution_count": 186
        }
      ]
    },
    {
      "cell_type": "markdown",
      "metadata": {
        "id": "eEV6MKDsiUh5"
      },
      "source": [
        "# Dataset with signaling blocks\n",
        "A dynamic dataset is generated where the number of signaling blocks are appended with the former dataset. Between London_Euston and London_Old_Oak_Common station one signaling block; between Birmingham_Interchange and Birmingham_Curzon_Street two signaling blocks are given. Number of blocks (upto 14) between London_Old_Oak_Common and Birmingham_Interchange is given as an input to generate the dataset."
      ]
    },
    {
      "cell_type": "code",
      "metadata": {
        "id": "Gdtjhka1edy5"
      },
      "source": [
        "def blocks(num,dt):\n",
        "    \n",
        "    numm=num+3\n",
        "    \n",
        "    if numm<4:\n",
        "        return 0\n",
        "    if numm > 20:\n",
        "        return 0\n",
        "    else:\n",
        "        a1 = ['signal_1']\n",
        "        a3 = ['signal_'+str(numm-1) , 'signal_'+str(numm)]\n",
        "        a2 = []\n",
        "        blks2 = []\n",
        "        blks3 = [numm+1,numm+2,numm+3]\n",
        "        for i in range(1,numm - 2):\n",
        "            a2.append('signal_'+str(i+1))\n",
        "            blks2.append(i+2)\n",
        "        blks2 = blks2+[numm]\n",
        "    for i in range(len(dt)):\n",
        "        from1=dt.at[i,'From']\n",
        "        to1=dt.at[i,'To']\n",
        "        dis1=dt.at[i,'Distance']\n",
        "        run1=dt.at[i,'Run Time']\n",
        "        if i == 0:\n",
        "            dis = [dis1/2]*2\n",
        "            runn = [run1/2]*2\n",
        "            data = {'Block': [1,2],'From':[from1]+a1, 'To':a1+[to1],'Distance':dis,'Run Time':runn}\n",
        "            df = pd.DataFrame(data)\n",
        "        elif i == 1:\n",
        "            dis = [dis1/(numm-2)]*(numm-2)\n",
        "            runn = [run1/(numm-2)]*(numm-2)\n",
        "            data1 = {'Block': blks2,'From':[from1]+a2, 'To':a2+[to1],'Distance':dis,'Run Time':runn}\n",
        "            df1 = pd.DataFrame(data1)\n",
        "            df = df.append(df1)\n",
        "        elif i == 2:\n",
        "            dis = [dis1/3]*3\n",
        "            runn = [run1/3]*3\n",
        "            data1 = {'Block': blks3,'From':[from1]+a3, 'To':a3+[to1],'Distance':dis,'Run Time':runn}\n",
        "            df1 = pd.DataFrame(data1)\n",
        "            df = df.append(df1)\n",
        "        \n",
        "    return df.reset_index(drop=True)\n",
        "  "
      ],
      "execution_count": null,
      "outputs": []
    },
    {
      "cell_type": "code",
      "metadata": {
        "id": "thKHOqGWedy_"
      },
      "source": [
        "dt = blocks(1,dtt)"
      ],
      "execution_count": null,
      "outputs": []
    },
    {
      "cell_type": "code",
      "metadata": {
        "scrolled": true,
        "id": "eEhQYnQzedzF",
        "outputId": "6b7f82a1-9a38-4136-e955-24645b7bebff"
      },
      "source": [
        "dt"
      ],
      "execution_count": null,
      "outputs": [
        {
          "output_type": "execute_result",
          "data": {
            "text/html": [
              "<div>\n",
              "<style scoped>\n",
              "    .dataframe tbody tr th:only-of-type {\n",
              "        vertical-align: middle;\n",
              "    }\n",
              "\n",
              "    .dataframe tbody tr th {\n",
              "        vertical-align: top;\n",
              "    }\n",
              "\n",
              "    .dataframe thead th {\n",
              "        text-align: right;\n",
              "    }\n",
              "</style>\n",
              "<table border=\"1\" class=\"dataframe\">\n",
              "  <thead>\n",
              "    <tr style=\"text-align: right;\">\n",
              "      <th></th>\n",
              "      <th>Block</th>\n",
              "      <th>From</th>\n",
              "      <th>To</th>\n",
              "      <th>Distance</th>\n",
              "      <th>Run Time</th>\n",
              "    </tr>\n",
              "  </thead>\n",
              "  <tbody>\n",
              "    <tr>\n",
              "      <th>0</th>\n",
              "      <td>1</td>\n",
              "      <td>London_Euston</td>\n",
              "      <td>signal_1</td>\n",
              "      <td>5400.000000</td>\n",
              "      <td>150.000000</td>\n",
              "    </tr>\n",
              "    <tr>\n",
              "      <th>1</th>\n",
              "      <td>2</td>\n",
              "      <td>signal_1</td>\n",
              "      <td>London_Old_Oak_Common</td>\n",
              "      <td>5400.000000</td>\n",
              "      <td>150.000000</td>\n",
              "    </tr>\n",
              "    <tr>\n",
              "      <th>2</th>\n",
              "      <td>3</td>\n",
              "      <td>London_Old_Oak_Common</td>\n",
              "      <td>signal_2</td>\n",
              "      <td>72500.000000</td>\n",
              "      <td>957.118973</td>\n",
              "    </tr>\n",
              "    <tr>\n",
              "      <th>3</th>\n",
              "      <td>4</td>\n",
              "      <td>signal_2</td>\n",
              "      <td>Birmingham_Interchange</td>\n",
              "      <td>72500.000000</td>\n",
              "      <td>957.118973</td>\n",
              "    </tr>\n",
              "    <tr>\n",
              "      <th>4</th>\n",
              "      <td>5</td>\n",
              "      <td>Birmingham_Interchange</td>\n",
              "      <td>signal_3</td>\n",
              "      <td>10175.326389</td>\n",
              "      <td>180.000000</td>\n",
              "    </tr>\n",
              "    <tr>\n",
              "      <th>5</th>\n",
              "      <td>6</td>\n",
              "      <td>signal_3</td>\n",
              "      <td>signal_4</td>\n",
              "      <td>10175.326389</td>\n",
              "      <td>180.000000</td>\n",
              "    </tr>\n",
              "    <tr>\n",
              "      <th>6</th>\n",
              "      <td>7</td>\n",
              "      <td>signal_4</td>\n",
              "      <td>Birmingham_Curzon_Street</td>\n",
              "      <td>10175.326389</td>\n",
              "      <td>180.000000</td>\n",
              "    </tr>\n",
              "  </tbody>\n",
              "</table>\n",
              "</div>"
            ],
            "text/plain": [
              "   Block                    From                        To      Distance  \\\n",
              "0      1           London_Euston                  signal_1   5400.000000   \n",
              "1      2                signal_1     London_Old_Oak_Common   5400.000000   \n",
              "2      3   London_Old_Oak_Common                  signal_2  72500.000000   \n",
              "3      4                signal_2    Birmingham_Interchange  72500.000000   \n",
              "4      5  Birmingham_Interchange                  signal_3  10175.326389   \n",
              "5      6                signal_3                  signal_4  10175.326389   \n",
              "6      7                signal_4  Birmingham_Curzon_Street  10175.326389   \n",
              "\n",
              "     Run Time  \n",
              "0  150.000000  \n",
              "1  150.000000  \n",
              "2  957.118973  \n",
              "3  957.118973  \n",
              "4  180.000000  \n",
              "5  180.000000  \n",
              "6  180.000000  "
            ]
          },
          "metadata": {
            "tags": []
          },
          "execution_count": 212
        }
      ]
    },
    {
      "cell_type": "markdown",
      "metadata": {
        "id": "1m3hV_gCihkL"
      },
      "source": [
        "## Total Distance\n"
      ]
    },
    {
      "cell_type": "code",
      "metadata": {
        "id": "nyNWrA-HedzJ",
        "outputId": "951db4be-e8fd-41b1-d9e8-88800c278186"
      },
      "source": [
        "dt['Distance'].sum()"
      ],
      "execution_count": null,
      "outputs": [
        {
          "output_type": "execute_result",
          "data": {
            "text/plain": [
              "186325.97916666663"
            ]
          },
          "metadata": {
            "tags": []
          },
          "execution_count": 190
        }
      ]
    },
    {
      "cell_type": "markdown",
      "metadata": {
        "id": "W9NRB54YinR9"
      },
      "source": [
        "## Dividing the distance equally among the signals\n"
      ]
    },
    {
      "cell_type": "code",
      "metadata": {
        "id": "nq3HIeWjedzQ",
        "outputId": "5fab224d-9e8e-4db1-ce52-199ac5125aa2"
      },
      "source": [
        "for i in range(len(dt)):\n",
        "    dt.at[i, 'Drive Time']=int(timeTo(dt.at[i, 'Distance']))"
      ],
      "execution_count": null,
      "outputs": [
        {
          "output_type": "stream",
          "text": [
            "115.69444444444444 260.3125 15660.689236111111\n",
            "115.69444444444444 260.3125 15660.689236111111\n",
            "115.69444444444444 260.3125 15660.689236111111\n",
            "115.69444444444444 260.3125 15660.689236111111\n",
            "115.69444444444444 260.3125 15660.689236111111\n",
            "115.69444444444444 260.3125 15660.689236111111\n",
            "115.69444444444444 260.3125 15660.689236111111\n",
            "115.69444444444444 260.3125 15660.689236111111\n",
            "115.69444444444444 260.3125 15660.689236111111\n",
            "115.69444444444444 260.3125 15660.689236111111\n"
          ],
          "name": "stdout"
        }
      ]
    },
    {
      "cell_type": "markdown",
      "metadata": {
        "id": "xSVJwb9-izZc"
      },
      "source": [
        "## Data frame with distributed runtime and drive time"
      ]
    },
    {
      "cell_type": "code",
      "metadata": {
        "id": "ycBBsMb-edzW",
        "outputId": "047dac5a-d9b7-4ce5-99b7-e1b13b1d37da"
      },
      "source": [
        "dt"
      ],
      "execution_count": null,
      "outputs": [
        {
          "output_type": "execute_result",
          "data": {
            "text/html": [
              "<div>\n",
              "<style scoped>\n",
              "    .dataframe tbody tr th:only-of-type {\n",
              "        vertical-align: middle;\n",
              "    }\n",
              "\n",
              "    .dataframe tbody tr th {\n",
              "        vertical-align: top;\n",
              "    }\n",
              "\n",
              "    .dataframe thead th {\n",
              "        text-align: right;\n",
              "    }\n",
              "</style>\n",
              "<table border=\"1\" class=\"dataframe\">\n",
              "  <thead>\n",
              "    <tr style=\"text-align: right;\">\n",
              "      <th></th>\n",
              "      <th>Block</th>\n",
              "      <th>From</th>\n",
              "      <th>To</th>\n",
              "      <th>Distance</th>\n",
              "      <th>Run Time</th>\n",
              "      <th>Drive Time</th>\n",
              "    </tr>\n",
              "  </thead>\n",
              "  <tbody>\n",
              "    <tr>\n",
              "      <th>0</th>\n",
              "      <td>1</td>\n",
              "      <td>London_Euston</td>\n",
              "      <td>signal_1</td>\n",
              "      <td>5400.000000</td>\n",
              "      <td>150.000000</td>\n",
              "      <td>220.0</td>\n",
              "    </tr>\n",
              "    <tr>\n",
              "      <th>1</th>\n",
              "      <td>2</td>\n",
              "      <td>signal_1</td>\n",
              "      <td>London_Old_Oak_Common</td>\n",
              "      <td>5400.000000</td>\n",
              "      <td>150.000000</td>\n",
              "      <td>220.0</td>\n",
              "    </tr>\n",
              "    <tr>\n",
              "      <th>2</th>\n",
              "      <td>3</td>\n",
              "      <td>London_Old_Oak_Common</td>\n",
              "      <td>signal_2</td>\n",
              "      <td>29000.000000</td>\n",
              "      <td>382.847589</td>\n",
              "      <td>536.0</td>\n",
              "    </tr>\n",
              "    <tr>\n",
              "      <th>3</th>\n",
              "      <td>4</td>\n",
              "      <td>signal_2</td>\n",
              "      <td>signal_3</td>\n",
              "      <td>29000.000000</td>\n",
              "      <td>382.847589</td>\n",
              "      <td>536.0</td>\n",
              "    </tr>\n",
              "    <tr>\n",
              "      <th>4</th>\n",
              "      <td>5</td>\n",
              "      <td>signal_3</td>\n",
              "      <td>signal_4</td>\n",
              "      <td>29000.000000</td>\n",
              "      <td>382.847589</td>\n",
              "      <td>536.0</td>\n",
              "    </tr>\n",
              "    <tr>\n",
              "      <th>5</th>\n",
              "      <td>6</td>\n",
              "      <td>signal_4</td>\n",
              "      <td>signal_5</td>\n",
              "      <td>29000.000000</td>\n",
              "      <td>382.847589</td>\n",
              "      <td>536.0</td>\n",
              "    </tr>\n",
              "    <tr>\n",
              "      <th>6</th>\n",
              "      <td>7</td>\n",
              "      <td>signal_5</td>\n",
              "      <td>Birmingham_Interchange</td>\n",
              "      <td>29000.000000</td>\n",
              "      <td>382.847589</td>\n",
              "      <td>536.0</td>\n",
              "    </tr>\n",
              "    <tr>\n",
              "      <th>7</th>\n",
              "      <td>8</td>\n",
              "      <td>Birmingham_Interchange</td>\n",
              "      <td>signal_6</td>\n",
              "      <td>10175.326389</td>\n",
              "      <td>180.000000</td>\n",
              "      <td>302.0</td>\n",
              "    </tr>\n",
              "    <tr>\n",
              "      <th>8</th>\n",
              "      <td>9</td>\n",
              "      <td>signal_6</td>\n",
              "      <td>signal_7</td>\n",
              "      <td>10175.326389</td>\n",
              "      <td>180.000000</td>\n",
              "      <td>302.0</td>\n",
              "    </tr>\n",
              "    <tr>\n",
              "      <th>9</th>\n",
              "      <td>10</td>\n",
              "      <td>signal_7</td>\n",
              "      <td>Birmingham_Curzon_Street</td>\n",
              "      <td>10175.326389</td>\n",
              "      <td>180.000000</td>\n",
              "      <td>302.0</td>\n",
              "    </tr>\n",
              "  </tbody>\n",
              "</table>\n",
              "</div>"
            ],
            "text/plain": [
              "   Block                    From                        To      Distance  \\\n",
              "0      1           London_Euston                  signal_1   5400.000000   \n",
              "1      2                signal_1     London_Old_Oak_Common   5400.000000   \n",
              "2      3   London_Old_Oak_Common                  signal_2  29000.000000   \n",
              "3      4                signal_2                  signal_3  29000.000000   \n",
              "4      5                signal_3                  signal_4  29000.000000   \n",
              "5      6                signal_4                  signal_5  29000.000000   \n",
              "6      7                signal_5    Birmingham_Interchange  29000.000000   \n",
              "7      8  Birmingham_Interchange                  signal_6  10175.326389   \n",
              "8      9                signal_6                  signal_7  10175.326389   \n",
              "9     10                signal_7  Birmingham_Curzon_Street  10175.326389   \n",
              "\n",
              "     Run Time  Drive Time  \n",
              "0  150.000000       220.0  \n",
              "1  150.000000       220.0  \n",
              "2  382.847589       536.0  \n",
              "3  382.847589       536.0  \n",
              "4  382.847589       536.0  \n",
              "5  382.847589       536.0  \n",
              "6  382.847589       536.0  \n",
              "7  180.000000       302.0  \n",
              "8  180.000000       302.0  \n",
              "9  180.000000       302.0  "
            ]
          },
          "metadata": {
            "tags": []
          },
          "execution_count": 192
        }
      ]
    },
    {
      "cell_type": "markdown",
      "metadata": {
        "id": "X6Y6lQgEi_It"
      },
      "source": [
        "## Dwell time of 20 seconds is added for the following stations"
      ]
    },
    {
      "cell_type": "code",
      "metadata": {
        "id": "oEQt14KWedze"
      },
      "source": [
        "dt['Dwell Time']=0"
      ],
      "execution_count": null,
      "outputs": []
    },
    {
      "cell_type": "code",
      "metadata": {
        "id": "4_P3rJD6edzm"
      },
      "source": [
        "stationss = ['London_Euston','London_Old_Oak_Common','Birmingham_Interchange']"
      ],
      "execution_count": null,
      "outputs": []
    },
    {
      "cell_type": "code",
      "metadata": {
        "id": "MYxLoj-zedzs",
        "outputId": "e8eb40c9-eff1-48de-8345-bd08ad3834df"
      },
      "source": [
        "for i in range(len(dt)):\n",
        "    if dt['From'][i] in stationss:\n",
        "        dt['Dwell Time'][i]=20\n",
        "    else:\n",
        "        dt['Dwell Time'][i]=0"
      ],
      "execution_count": null,
      "outputs": [
        {
          "output_type": "stream",
          "text": [
            "C:\\ProgramData\\Anaconda3\\lib\\site-packages\\ipykernel_launcher.py:3: SettingWithCopyWarning: \n",
            "A value is trying to be set on a copy of a slice from a DataFrame\n",
            "\n",
            "See the caveats in the documentation: https://pandas.pydata.org/pandas-docs/stable/user_guide/indexing.html#returning-a-view-versus-a-copy\n",
            "  This is separate from the ipykernel package so we can avoid doing imports until\n",
            "C:\\ProgramData\\Anaconda3\\lib\\site-packages\\ipykernel_launcher.py:5: SettingWithCopyWarning: \n",
            "A value is trying to be set on a copy of a slice from a DataFrame\n",
            "\n",
            "See the caveats in the documentation: https://pandas.pydata.org/pandas-docs/stable/user_guide/indexing.html#returning-a-view-versus-a-copy\n",
            "  \"\"\"\n"
          ],
          "name": "stderr"
        }
      ]
    },
    {
      "cell_type": "markdown",
      "metadata": {
        "id": "O3246ADojJTf"
      },
      "source": [
        "## The data frame is printed out below with the Dwell Time column appended to it."
      ]
    },
    {
      "cell_type": "code",
      "metadata": {
        "scrolled": true,
        "id": "OM7jddfbedzx",
        "outputId": "74fa726b-7496-4dc4-e1be-5eced4921005"
      },
      "source": [
        "dt"
      ],
      "execution_count": null,
      "outputs": [
        {
          "output_type": "execute_result",
          "data": {
            "text/html": [
              "<div>\n",
              "<style scoped>\n",
              "    .dataframe tbody tr th:only-of-type {\n",
              "        vertical-align: middle;\n",
              "    }\n",
              "\n",
              "    .dataframe tbody tr th {\n",
              "        vertical-align: top;\n",
              "    }\n",
              "\n",
              "    .dataframe thead th {\n",
              "        text-align: right;\n",
              "    }\n",
              "</style>\n",
              "<table border=\"1\" class=\"dataframe\">\n",
              "  <thead>\n",
              "    <tr style=\"text-align: right;\">\n",
              "      <th></th>\n",
              "      <th>Block</th>\n",
              "      <th>From</th>\n",
              "      <th>To</th>\n",
              "      <th>Distance</th>\n",
              "      <th>Run Time</th>\n",
              "      <th>Drive Time</th>\n",
              "      <th>Dwell Time</th>\n",
              "    </tr>\n",
              "  </thead>\n",
              "  <tbody>\n",
              "    <tr>\n",
              "      <th>0</th>\n",
              "      <td>1</td>\n",
              "      <td>London_Euston</td>\n",
              "      <td>signal_1</td>\n",
              "      <td>5400.000000</td>\n",
              "      <td>150.000000</td>\n",
              "      <td>220.0</td>\n",
              "      <td>20</td>\n",
              "    </tr>\n",
              "    <tr>\n",
              "      <th>1</th>\n",
              "      <td>2</td>\n",
              "      <td>signal_1</td>\n",
              "      <td>London_Old_Oak_Common</td>\n",
              "      <td>5400.000000</td>\n",
              "      <td>150.000000</td>\n",
              "      <td>220.0</td>\n",
              "      <td>0</td>\n",
              "    </tr>\n",
              "    <tr>\n",
              "      <th>2</th>\n",
              "      <td>3</td>\n",
              "      <td>London_Old_Oak_Common</td>\n",
              "      <td>signal_2</td>\n",
              "      <td>29000.000000</td>\n",
              "      <td>382.847589</td>\n",
              "      <td>536.0</td>\n",
              "      <td>20</td>\n",
              "    </tr>\n",
              "    <tr>\n",
              "      <th>3</th>\n",
              "      <td>4</td>\n",
              "      <td>signal_2</td>\n",
              "      <td>signal_3</td>\n",
              "      <td>29000.000000</td>\n",
              "      <td>382.847589</td>\n",
              "      <td>536.0</td>\n",
              "      <td>0</td>\n",
              "    </tr>\n",
              "    <tr>\n",
              "      <th>4</th>\n",
              "      <td>5</td>\n",
              "      <td>signal_3</td>\n",
              "      <td>signal_4</td>\n",
              "      <td>29000.000000</td>\n",
              "      <td>382.847589</td>\n",
              "      <td>536.0</td>\n",
              "      <td>0</td>\n",
              "    </tr>\n",
              "    <tr>\n",
              "      <th>5</th>\n",
              "      <td>6</td>\n",
              "      <td>signal_4</td>\n",
              "      <td>signal_5</td>\n",
              "      <td>29000.000000</td>\n",
              "      <td>382.847589</td>\n",
              "      <td>536.0</td>\n",
              "      <td>0</td>\n",
              "    </tr>\n",
              "    <tr>\n",
              "      <th>6</th>\n",
              "      <td>7</td>\n",
              "      <td>signal_5</td>\n",
              "      <td>Birmingham_Interchange</td>\n",
              "      <td>29000.000000</td>\n",
              "      <td>382.847589</td>\n",
              "      <td>536.0</td>\n",
              "      <td>0</td>\n",
              "    </tr>\n",
              "    <tr>\n",
              "      <th>7</th>\n",
              "      <td>8</td>\n",
              "      <td>Birmingham_Interchange</td>\n",
              "      <td>signal_6</td>\n",
              "      <td>10175.326389</td>\n",
              "      <td>180.000000</td>\n",
              "      <td>302.0</td>\n",
              "      <td>20</td>\n",
              "    </tr>\n",
              "    <tr>\n",
              "      <th>8</th>\n",
              "      <td>9</td>\n",
              "      <td>signal_6</td>\n",
              "      <td>signal_7</td>\n",
              "      <td>10175.326389</td>\n",
              "      <td>180.000000</td>\n",
              "      <td>302.0</td>\n",
              "      <td>0</td>\n",
              "    </tr>\n",
              "    <tr>\n",
              "      <th>9</th>\n",
              "      <td>10</td>\n",
              "      <td>signal_7</td>\n",
              "      <td>Birmingham_Curzon_Street</td>\n",
              "      <td>10175.326389</td>\n",
              "      <td>180.000000</td>\n",
              "      <td>302.0</td>\n",
              "      <td>0</td>\n",
              "    </tr>\n",
              "  </tbody>\n",
              "</table>\n",
              "</div>"
            ],
            "text/plain": [
              "   Block                    From                        To      Distance  \\\n",
              "0      1           London_Euston                  signal_1   5400.000000   \n",
              "1      2                signal_1     London_Old_Oak_Common   5400.000000   \n",
              "2      3   London_Old_Oak_Common                  signal_2  29000.000000   \n",
              "3      4                signal_2                  signal_3  29000.000000   \n",
              "4      5                signal_3                  signal_4  29000.000000   \n",
              "5      6                signal_4                  signal_5  29000.000000   \n",
              "6      7                signal_5    Birmingham_Interchange  29000.000000   \n",
              "7      8  Birmingham_Interchange                  signal_6  10175.326389   \n",
              "8      9                signal_6                  signal_7  10175.326389   \n",
              "9     10                signal_7  Birmingham_Curzon_Street  10175.326389   \n",
              "\n",
              "     Run Time  Drive Time  Dwell Time  \n",
              "0  150.000000       220.0          20  \n",
              "1  150.000000       220.0           0  \n",
              "2  382.847589       536.0          20  \n",
              "3  382.847589       536.0           0  \n",
              "4  382.847589       536.0           0  \n",
              "5  382.847589       536.0           0  \n",
              "6  382.847589       536.0           0  \n",
              "7  180.000000       302.0          20  \n",
              "8  180.000000       302.0           0  \n",
              "9  180.000000       302.0           0  "
            ]
          },
          "metadata": {
            "tags": []
          },
          "execution_count": 196
        }
      ]
    },
    {
      "cell_type": "code",
      "metadata": {
        "id": "Ax8RTo0redz1",
        "outputId": "dc0d4c14-095d-4893-db71-423f1cc33122"
      },
      "source": [
        "dt['Dwell Time'].mean()"
      ],
      "execution_count": null,
      "outputs": [
        {
          "output_type": "execute_result",
          "data": {
            "text/plain": [
              "6.0"
            ]
          },
          "metadata": {
            "tags": []
          },
          "execution_count": 197
        }
      ]
    },
    {
      "cell_type": "markdown",
      "metadata": {
        "id": "QuWUfQvLjRDY"
      },
      "source": [
        "## The histogram illustrates the dwell time at the signals and stations ."
      ]
    },
    {
      "cell_type": "code",
      "metadata": {
        "scrolled": true,
        "id": "CgGGSlRYedz5",
        "outputId": "f68e44bf-c970-4d7d-cda9-d26fcf4bb9bb"
      },
      "source": [
        "dt['Dwell Time'].hist(bins=50)"
      ],
      "execution_count": null,
      "outputs": [
        {
          "output_type": "execute_result",
          "data": {
            "text/plain": [
              "<matplotlib.axes._subplots.AxesSubplot at 0x252301f6bc8>"
            ]
          },
          "metadata": {
            "tags": []
          },
          "execution_count": 198
        },
        {
          "output_type": "display_data",
          "data": {
            "image/png": "[encoded data removed]",
            "text/plain": [
              "<Figure size 432x288 with 1 Axes>"
            ]
          },
          "metadata": {
            "tags": [],
            "needs_background": "light"
          }
        }
      ]
    },
    {
      "cell_type": "markdown",
      "metadata": {
        "id": "Yv1F5xVBj2k7"
      },
      "source": [
        "# Utility function\n",
        "### The time conversion function in the HH:MM:SS format is defined below."
      ]
    },
    {
      "cell_type": "code",
      "metadata": {
        "id": "1DiX8lyxed0B"
      },
      "source": [
        "def formattedSystemTime(t):\n",
        "    t=int(t)\n",
        "    return f\"{t//3600:02d}:{(t%3600)//60:02d}:{t%60:02d}\"\n",
        "def parseTime(s):\n",
        "    if isinstance(s, str):\n",
        "        parts=s.split(':')\n",
        "        if len(parts)>=2:\n",
        "            hours=int(parts[0])\n",
        "            minutes=int(parts[1])\n",
        "            seconds=0 if len(parts)==2 else int(parts[2])\n",
        "            return 3600*hours+60*minutes+seconds\n",
        "    # any wrong formats will be passed through and may cause \n",
        "    # an error at a later stage\n",
        "    return s"
      ],
      "execution_count": null,
      "outputs": []
    },
    {
      "cell_type": "markdown",
      "metadata": {
        "id": "FU6uD2-ekCl9"
      },
      "source": [
        "# Modelling Infrastructure\n",
        "The infrastructure consists of stations and signals. These sub-classes are derived from the super class 'NetworkNode' which outlines the blueprint of the classes.\n",
        "\n",
        "A railway line consists of sequence of signaling blocks and stations. Number of signaling blocks are not constant. "
      ]
    },
    {
      "cell_type": "markdown",
      "metadata": {
        "id": "HSlCByG9lKDi"
      },
      "source": [
        "## Network class"
      ]
    },
    {
      "cell_type": "code",
      "metadata": {
        "id": "DiGhRYL3ed0E"
      },
      "source": [
        "class NetworkNode:\n",
        "    \n",
        "    def __init__(self, env, location):\n",
        "        self.env=env\n",
        "        self.location=location\n",
        "        self.arrTimes=[]\n",
        "        self.depTimes=[]\n",
        "        self.dwellTimes=[]\n",
        "        \n",
        "        # buffer needed to compute the dwell time as difference of\n",
        "        # departure time and arrival time\n",
        "        self.arrTime=0  \n",
        "\n",
        "\n",
        "    def getArrivalTimes(self):\n",
        "        return self.arrTimes\n",
        "    \n",
        "    def getDepartureTimes(self):\n",
        "        return self.depTimes\n",
        "        \n",
        "    def trace_prefix(self, train):\n",
        "        return f\"{formattedSystemTime(self.env.now):s} \" \\\n",
        "               f\"[Train_{train.getNo():d}]\" \n",
        "    \n",
        "    def arr(self, train):\n",
        "        self.arrTime=self.env.now\n",
        "        self.arrTimes+=[self.env.now]\n",
        "        print(f\"{self.trace_prefix(train):s} arr {self.loc():s}\")        \n",
        "\n",
        "    def dep(self, train, dest):\n",
        "        self.depTimes+=[self.env.now]\n",
        "        dwellTime=0 if self.arrTime==0 else self.env.now-self.arrTime\n",
        "        self.dwellTimes+=[dwellTime]\n",
        "        print(f\"{self.trace_prefix(train):s} dep {self.loc():s} for {dest.loc():s}\")\n",
        "                \n",
        "    def getTrack(self):\n",
        "        pass\n",
        "    \n",
        "    def loc(self):\n",
        "        pass\n",
        "    \n",
        "    def track_name(self):\n",
        "        pass\n",
        "    \n",
        "    def isPeakTime(self):\n",
        "        now=self.env.now\n",
        "        return (3600*7<=now and now<=3600*10) or \\\n",
        "               (3600*16<=now and now<=3600*19)"
      ],
      "execution_count": null,
      "outputs": []
    },
    {
      "cell_type": "markdown",
      "metadata": {
        "id": "ZUitxDAZlV7q"
      },
      "source": [
        "# Station\n",
        "Here Station class is defined in a way to represent both a signaling block or a station in the railway line with respect to dwell time. For dwell time 0 it represents a signaling block otherwise a station. \n",
        "\n",
        "### Weather constraints\n",
        "Weather condition have a direct impact on the run time and dwell time of the train. Thus, exponential distribution is used to derive drive time of a train."
      ]
    },
    {
      "cell_type": "code",
      "metadata": {
        "id": "9qa3mvgXed0I"
      },
      "source": [
        "class Station(NetworkNode):\n",
        "    def __init__(self, env, location):\n",
        "        super().__init__(env, location)\n",
        "        self.env=env\n",
        "        self.location=location\n",
        "        \n",
        "        self.track=simpy.Resource(env, capacity=1)\n",
        "        dd=dt[dt['From']==location]\n",
        "        if dd.shape[0] == 0:\n",
        "            dd=dt[dt['To']==location]\n",
        "        \n",
        "        \n",
        "        self.drive_time=int(dd.iloc[0].at['Drive Time'])\n",
        "        self.dwell_time=int(dd.iloc[0].at['Dwell Time'])\n",
        "            \n",
        "        self.drive_time_dist= \\\n",
        "                stats.expon(loc=self.drive_time, \\\n",
        "                            scale=self.drive_time*0.2)\n",
        "        \n",
        "        \n",
        "    def driveTime(self):\n",
        "        return self.drive_time_dist.rvs()\n",
        "    \n",
        "    def dwellTime(self):\n",
        "        return self.dwell_time\n",
        "        \n",
        "    def getTrack(self):\n",
        "        return self.track\n",
        "    \n",
        "    def loc(self):\n",
        "        return self.location\n",
        "    \n",
        "    def track_name(self):\n",
        "        return self.location"
      ],
      "execution_count": null,
      "outputs": []
    },
    {
      "cell_type": "code",
      "metadata": {
        "id": "Oh9CdKUwed0L"
      },
      "source": [
        "def allStations(env):\n",
        "    stations=dt['From'].to_list()\n",
        "    stations+=[dt['To'].to_list()[-1]]\n",
        "    return [ Station(env, s) for s in stations ]\n",
        "   "
      ],
      "execution_count": null,
      "outputs": []
    },
    {
      "cell_type": "code",
      "metadata": {
        "id": "q1qikipYed0P"
      },
      "source": [
        "def allTracks(env, network):\n",
        "    lines=[]\n",
        "    stations=[ allStations(env)]\n",
        "    for station in stations:\n",
        "        l=Line(env, network,station)\n",
        "        lines+=[l]\n",
        "        \n",
        "    return lines"
      ],
      "execution_count": null,
      "outputs": []
    },
    {
      "cell_type": "markdown",
      "metadata": {
        "id": "MRO12X_7nIi_"
      },
      "source": [
        "# Network\n",
        "\n",
        "The class Network is used to create the simulating environment."
      ]
    },
    {
      "cell_type": "code",
      "metadata": {
        "id": "fYoT77Zjed0S"
      },
      "source": [
        "class Network(object):\n",
        "    def __init__(self, start, stop, timing):\n",
        "        self.env=simpy.Environment()\n",
        "        self.start=parseTime(start)\n",
        "        self.stop=parseTime(stop)\n",
        "        self.timing=timing\n",
        "        self.tracks=allTracks(self.env,self)\n",
        "        \n",
        "            \n",
        "    def process(self):\n",
        "        for t in self.tracks:\n",
        "            t.setTiming(self.start, self.stop, self.timing)\n",
        "            yield self.env.timeout(self.start-self.env.now)\n",
        "            self.env.process(t.process())\n",
        "    \n",
        "    def runSimulation(self, days=1):\n",
        "        for i in range(days):\n",
        "            self.env.process(self.process())\n",
        "        return self.env.run()"
      ],
      "execution_count": null,
      "outputs": []
    },
    {
      "cell_type": "markdown",
      "metadata": {
        "id": "Zd18wrFYn4qH"
      },
      "source": [
        "# Train\n",
        "The train class is used to create multiple instances of train running in the simulating environment."
      ]
    },
    {
      "cell_type": "code",
      "metadata": {
        "id": "MefQ1ByVed0X"
      },
      "source": [
        "class Train(object):\n",
        "    \n",
        "    def __init__(self, env, i, track,maxPassengers=441): #70 % of 630 \n",
        "        self.env = env\n",
        "        self.no=i\n",
        "        self.track = track\n",
        "        self.p     = 0\n",
        "        self.maxP  = maxPassengers\n",
        "        \n",
        "    def getNo(self):\n",
        "        return self.no\n",
        "    \n",
        "    \n",
        "        \n",
        "    def process(self):\n",
        "        stations=self.track.getStations()\n",
        "        here=stations[0]\n",
        "        here_req=None\n",
        "        \n",
        "        yield self.env.timeout(here.dwellTime())\n",
        "        \n",
        "        for dest in stations[1:-1]:\n",
        "                \n",
        "            # The train is currently in station 'here'. The next station is 'dest'.\n",
        "            # to depart for dest, the train requests access\n",
        "            # to the track in the next staion.\n",
        "                \n",
        "            dest_req=dest.getTrack().request()\n",
        "            yield dest_req\n",
        "                \n",
        "            # if the train doesn't get immediate access, it continues waiting \n",
        "            # in the current station ('here').\n",
        "            # if the train got access the train departs from 'here'for 'dest'\n",
        "            \n",
        "            \n",
        "                \n",
        "            here.dep(self, dest)\n",
        "                \n",
        "            # Once the train has completely left the station, the train\n",
        "            # will release the track of station ('here'). \n",
        "            # We assume that the train has left the station after 5 secs \n",
        "            # the train proceeds to drive to the next station ('dest')\n",
        "            \n",
        "            yield self.env.timeout(dest.driveTime())\n",
        "                    \n",
        "            dest.arr(self)\n",
        "                    \n",
        "            yield self.env.timeout(dest.dwellTime())\n",
        "            \n",
        "            yield self.env.timeout(5)\n",
        "            if here_req!=None:\n",
        "                here.getTrack().release(here_req)\n",
        "                    \n",
        "            here=dest\n",
        "            here_req=dest_req\n",
        "                \n",
        "        # The train is now in the last station and has waited there already long\n",
        "        # enough for all passengers to disembark. The destination is now the depot.\n",
        "        depot=stations[-1]\n",
        "        \n",
        "        # Assuming that there is always space in the depot,\n",
        "        # the train leaves for the depot:\n",
        "        here.dep(self, depot)\n",
        "                \n",
        "        # Once the train has completely left the last station ('here'), \n",
        "        # the train will release the track of the last station. \n",
        "        # We assume that the train has left the station after 10 secs \n",
        "                    \n",
        "        # the train proceeds to drive into the depot\n",
        "        yield self.env.timeout(depot.driveTime())\n",
        "                    \n",
        "        # The train arrives at the depot and \"checks in\"\n",
        "        depot.arr(self)\n",
        "        \n",
        "        yield self.env.timeout(depot.dwellTime())\n",
        "        \n",
        "        yield self.env.timeout(5)#last station dwell time\n",
        "        if here_req!=None:\n",
        "            here.getTrack().release(here_req)\n",
        "        \n",
        "    def getOff(self, num):\n",
        "        if self.p >= num:\n",
        "            self.p -= num\n",
        "        else:\n",
        "            num = self.p\n",
        "            self.p = 0\n",
        "\n",
        "    def getOn(self, num):\n",
        "        if (self.maxP is None) or (self.p + num <= self.maxP):\n",
        "            self.p += num\n",
        "        else:\n",
        "            num = self.maxp - self.p\n",
        "            self.p = self.maxp"
      ],
      "execution_count": null,
      "outputs": []
    },
    {
      "cell_type": "markdown",
      "metadata": {
        "id": "TTfJ3DaboHdJ"
      },
      "source": [
        "# Line\n",
        "The class Line is used to generate the tracks from the first to last station including the signaling blocks. Here, it is checked for if a signaling block is available for the entry of the tarin."
      ]
    },
    {
      "cell_type": "code",
      "metadata": {
        "id": "3LNg9INned0e"
      },
      "source": [
        "class Line(object):\n",
        "    def __init__(self, env, network, stations):\n",
        "        self.env=env\n",
        "        self.network=network\n",
        "        self.stations=stations\n",
        "        \n",
        "\n",
        "    def getNetwork(self):\n",
        "        return self.network\n",
        "    \n",
        "    def getStations(self):\n",
        "        return self.stations\n",
        "    \n",
        "    def setTiming(self, start, stop, timing):\n",
        "        self.start=start\n",
        "        self.stop=stop\n",
        "        self.timing=timing\n",
        "        \n",
        "    def process(self):\n",
        "        yield self.env.timeout(self.start-self.env.now) \n",
        "        for i in range(int((self.stop-self.start)/self.timing)):\n",
        "            t=Train(self.env, i, self,self.network)\n",
        "            self.env.process(t.process())\n",
        "            yield self.env.timeout(self.timing)    \n",
        "            "
      ],
      "execution_count": null,
      "outputs": []
    },
    {
      "cell_type": "markdown",
      "metadata": {
        "id": "-bavyVdiokHr"
      },
      "source": [
        "# Simulation"
      ]
    },
    {
      "cell_type": "code",
      "metadata": {
        "id": "jn6OKgbged0h",
        "outputId": "d492aeba-44e9-452c-d82b-6a9f730e4970"
      },
      "source": [
        "network=Network(\"06:00\", \"07:00\", 300)\n",
        "network.runSimulation()"
      ],
      "execution_count": null,
      "outputs": [
        {
          "output_type": "stream",
          "text": [
            "06:00:20 [Train_0] dep London_Euston for signal_1\n",
            "06:04:04 [Train_0] arr signal_1\n",
            "06:04:09 [Train_0] dep signal_1 for London_Old_Oak_Common\n",
            "06:15:27 [Train_0] arr London_Old_Oak_Common\n",
            "06:15:52 [Train_0] dep London_Old_Oak_Common for signal_2\n",
            "06:15:52 [Train_1] dep London_Euston for signal_1\n",
            "06:20:21 [Train_1] arr signal_1\n",
            "06:25:38 [Train_0] arr signal_2\n",
            "06:25:43 [Train_0] dep signal_2 for signal_3\n",
            "06:25:43 [Train_1] dep signal_1 for London_Old_Oak_Common\n",
            "06:35:21 [Train_0] arr signal_3\n",
            "06:35:26 [Train_0] dep signal_3 for signal_4\n",
            "06:36:42 [Train_1] arr London_Old_Oak_Common\n",
            "06:37:07 [Train_1] dep London_Old_Oak_Common for signal_2\n",
            "06:37:07 [Train_2] dep London_Euston for signal_1\n",
            "06:41:02 [Train_2] arr signal_1\n",
            "06:44:39 [Train_0] arr signal_4\n",
            "06:44:44 [Train_0] dep signal_4 for signal_5\n",
            "06:47:11 [Train_1] arr signal_2\n",
            "06:47:16 [Train_1] dep signal_2 for signal_3\n",
            "06:47:16 [Train_2] dep signal_1 for London_Old_Oak_Common\n",
            "06:56:30 [Train_1] arr signal_3\n",
            "06:58:16 [Train_0] arr signal_5\n",
            "06:58:18 [Train_2] arr London_Old_Oak_Common\n",
            "06:58:21 [Train_0] dep signal_5 for Birmingham_Interchange\n",
            "06:58:21 [Train_1] dep signal_3 for signal_4\n",
            "06:58:43 [Train_2] dep London_Old_Oak_Common for signal_2\n",
            "06:58:43 [Train_3] dep London_Euston for signal_1\n",
            "07:02:47 [Train_3] arr signal_1\n",
            "07:03:48 [Train_0] arr Birmingham_Interchange\n",
            "07:04:13 [Train_0] dep Birmingham_Interchange for signal_6\n",
            "07:08:53 [Train_2] arr signal_2\n",
            "07:08:58 [Train_3] dep signal_1 for London_Old_Oak_Common\n",
            "07:09:51 [Train_0] arr signal_6\n",
            "07:09:56 [Train_0] dep signal_6 for signal_7\n",
            "07:11:00 [Train_1] arr signal_4\n",
            "07:11:05 [Train_1] dep signal_4 for signal_5\n",
            "07:11:05 [Train_2] dep signal_2 for signal_3\n",
            "07:15:45 [Train_0] arr signal_7\n",
            "07:15:50 [Train_0] dep signal_7 for Birmingham_Curzon_Street\n",
            "07:20:18 [Train_3] arr London_Old_Oak_Common\n",
            "07:20:43 [Train_4] dep London_Euston for signal_1\n",
            "07:21:05 [Train_0] arr Birmingham_Curzon_Street\n",
            "07:23:24 [Train_1] arr signal_5\n",
            "07:23:29 [Train_1] dep signal_5 for Birmingham_Interchange\n",
            "07:24:35 [Train_2] arr signal_3\n",
            "07:24:40 [Train_2] dep signal_3 for signal_4\n",
            "07:24:40 [Train_3] dep London_Old_Oak_Common for signal_2\n",
            "07:25:29 [Train_4] arr signal_1\n",
            "07:29:01 [Train_1] arr Birmingham_Interchange\n",
            "07:29:26 [Train_1] dep Birmingham_Interchange for signal_6\n",
            "07:34:25 [Train_2] arr signal_4\n",
            "07:34:30 [Train_2] dep signal_4 for signal_5\n",
            "07:35:28 [Train_1] arr signal_6\n",
            "07:35:33 [Train_1] dep signal_6 for signal_7\n",
            "07:37:37 [Train_3] arr signal_2\n",
            "07:37:42 [Train_3] dep signal_2 for signal_3\n",
            "07:37:42 [Train_4] dep signal_1 for London_Old_Oak_Common\n",
            "07:41:46 [Train_1] arr signal_7\n",
            "07:41:51 [Train_1] dep signal_7 for Birmingham_Curzon_Street\n",
            "07:44:29 [Train_2] arr signal_5\n",
            "07:44:34 [Train_2] dep signal_5 for Birmingham_Interchange\n",
            "07:47:35 [Train_3] arr signal_3\n",
            "07:47:40 [Train_3] dep signal_3 for signal_4\n",
            "07:48:30 [Train_1] arr Birmingham_Curzon_Street\n",
            "07:48:58 [Train_4] arr London_Old_Oak_Common\n",
            "07:49:23 [Train_4] dep London_Old_Oak_Common for signal_2\n",
            "07:49:23 [Train_5] dep London_Euston for signal_1\n",
            "07:51:29 [Train_2] arr Birmingham_Interchange\n",
            "07:51:54 [Train_2] dep Birmingham_Interchange for signal_6\n",
            "07:54:25 [Train_5] arr signal_1\n",
            "07:58:04 [Train_3] arr signal_4\n",
            "07:58:09 [Train_3] dep signal_4 for signal_5\n",
            "07:58:10 [Train_2] arr signal_6\n",
            "07:58:15 [Train_2] dep signal_6 for signal_7\n",
            "07:59:11 [Train_4] arr signal_2\n",
            "07:59:16 [Train_4] dep signal_2 for signal_3\n",
            "07:59:16 [Train_5] dep signal_1 for London_Old_Oak_Common\n",
            "08:03:26 [Train_2] arr signal_7\n",
            "08:03:31 [Train_2] dep signal_7 for Birmingham_Curzon_Street\n",
            "08:08:10 [Train_3] arr signal_5\n",
            "08:08:15 [Train_3] dep signal_5 for Birmingham_Interchange\n",
            "08:08:17 [Train_4] arr signal_3\n",
            "08:08:22 [Train_4] dep signal_3 for signal_4\n",
            "08:09:03 [Train_2] arr Birmingham_Curzon_Street\n",
            "08:18:49 [Train_3] arr Birmingham_Interchange\n",
            "08:19:03 [Train_4] arr signal_4\n",
            "08:19:14 [Train_3] dep Birmingham_Interchange for signal_6\n",
            "08:19:14 [Train_4] dep signal_4 for signal_5\n",
            "08:20:04 [Train_5] arr London_Old_Oak_Common\n",
            "08:20:29 [Train_5] dep London_Old_Oak_Common for signal_2\n",
            "08:20:29 [Train_6] dep London_Euston for signal_1\n",
            "08:24:10 [Train_6] arr signal_1\n",
            "08:24:48 [Train_3] arr signal_6\n",
            "08:24:53 [Train_3] dep signal_6 for signal_7\n",
            "08:28:52 [Train_4] arr signal_5\n",
            "08:28:57 [Train_4] dep signal_5 for Birmingham_Interchange\n",
            "08:31:49 [Train_5] arr signal_2\n",
            "08:31:54 [Train_5] dep signal_2 for signal_3\n",
            "08:31:54 [Train_6] dep signal_1 for London_Old_Oak_Common\n",
            "08:33:23 [Train_3] arr signal_7\n",
            "08:33:28 [Train_3] dep signal_7 for Birmingham_Curzon_Street\n",
            "08:36:58 [Train_4] arr Birmingham_Interchange\n",
            "08:37:23 [Train_4] dep Birmingham_Interchange for signal_6\n",
            "08:39:01 [Train_3] arr Birmingham_Curzon_Street\n",
            "08:42:00 [Train_5] arr signal_3\n",
            "08:42:05 [Train_5] dep signal_3 for signal_4\n",
            "08:42:09 [Train_6] arr London_Old_Oak_Common\n",
            "08:42:29 [Train_4] arr signal_6\n",
            "08:42:34 [Train_4] dep signal_6 for signal_7\n",
            "08:42:34 [Train_6] dep London_Old_Oak_Common for signal_2\n",
            "08:42:34 [Train_7] dep London_Euston for signal_1\n",
            "08:47:50 [Train_4] arr signal_7\n",
            "08:47:54 [Train_7] arr signal_1\n",
            "08:47:55 [Train_4] dep signal_7 for Birmingham_Curzon_Street\n",
            "08:51:38 [Train_5] arr signal_4\n",
            "08:51:43 [Train_5] dep signal_4 for signal_5\n",
            "08:51:56 [Train_6] arr signal_2\n",
            "08:52:01 [Train_6] dep signal_2 for signal_3\n",
            "08:52:01 [Train_7] dep signal_1 for London_Old_Oak_Common\n",
            "08:53:18 [Train_4] arr Birmingham_Curzon_Street\n",
            "09:01:03 [Train_7] arr London_Old_Oak_Common\n",
            "09:01:28 [Train_8] dep London_Euston for signal_1\n",
            "09:02:05 [Train_6] arr signal_3\n",
            "09:02:10 [Train_7] dep London_Old_Oak_Common for signal_2\n",
            "09:03:16 [Train_5] arr signal_5\n",
            "09:03:21 [Train_5] dep signal_5 for Birmingham_Interchange\n",
            "09:03:21 [Train_6] dep signal_3 for signal_4\n",
            "09:05:09 [Train_8] arr signal_1\n",
            "09:09:10 [Train_5] arr Birmingham_Interchange\n",
            "09:09:35 [Train_5] dep Birmingham_Interchange for signal_6\n",
            "09:11:50 [Train_7] arr signal_2\n",
            "09:11:55 [Train_8] dep signal_1 for London_Old_Oak_Common\n",
            "09:15:13 [Train_5] arr signal_6\n",
            "09:15:18 [Train_5] dep signal_6 for signal_7\n",
            "09:18:53 [Train_6] arr signal_4\n",
            "09:18:58 [Train_6] dep signal_4 for signal_5\n",
            "09:18:58 [Train_7] dep signal_2 for signal_3\n",
            "09:21:00 [Train_8] arr London_Old_Oak_Common\n",
            "09:21:23 [Train_5] arr signal_7\n",
            "09:21:25 [Train_9] dep London_Euston for signal_1\n",
            "09:21:28 [Train_5] dep signal_7 for Birmingham_Curzon_Street\n",
            "09:25:55 [Train_9] arr signal_1\n",
            "09:26:38 [Train_5] arr Birmingham_Curzon_Street\n",
            "09:28:20 [Train_6] arr signal_5\n",
            "09:28:25 [Train_6] dep signal_5 for Birmingham_Interchange\n",
            "09:29:24 [Train_7] arr signal_3\n",
            "09:29:29 [Train_7] dep signal_3 for signal_4\n",
            "09:29:29 [Train_8] dep London_Old_Oak_Common for signal_2\n",
            "09:33:31 [Train_6] arr Birmingham_Interchange\n",
            "09:33:56 [Train_6] dep Birmingham_Interchange for signal_6\n",
            "09:38:28 [Train_7] arr signal_4\n",
            "09:38:32 [Train_8] arr signal_2\n",
            "09:38:33 [Train_7] dep signal_4 for signal_5\n",
            "09:38:37 [Train_8] dep signal_2 for signal_3\n",
            "09:38:37 [Train_9] dep signal_1 for London_Old_Oak_Common\n",
            "09:39:35 [Train_6] arr signal_6\n",
            "09:39:40 [Train_6] dep signal_6 for signal_7\n",
            "09:44:44 [Train_6] arr signal_7\n",
            "09:44:49 [Train_6] dep signal_7 for Birmingham_Curzon_Street\n",
            "09:47:39 [Train_8] arr signal_3\n",
            "09:50:14 [Train_6] arr Birmingham_Curzon_Street\n",
            "09:53:32 [Train_9] arr London_Old_Oak_Common\n",
            "09:53:57 [Train_9] dep London_Old_Oak_Common for signal_2\n",
            "09:53:57 [Train_10] dep London_Euston for signal_1\n",
            "09:54:42 [Train_7] arr signal_5\n",
            "09:54:47 [Train_7] dep signal_5 for Birmingham_Interchange\n",
            "09:54:47 [Train_8] dep signal_3 for signal_4\n",
            "09:58:03 [Train_10] arr signal_1\n",
            "10:01:27 [Train_7] arr Birmingham_Interchange\n",
            "10:01:52 [Train_7] dep Birmingham_Interchange for signal_6\n",
            "10:04:51 [Train_8] arr signal_4\n",
            "10:04:53 [Train_9] arr signal_2\n",
            "10:04:56 [Train_8] dep signal_4 for signal_5\n",
            "10:04:58 [Train_9] dep signal_2 for signal_3\n",
            "10:04:58 [Train_10] dep signal_1 for London_Old_Oak_Common\n",
            "10:07:08 [Train_7] arr signal_6\n",
            "10:07:13 [Train_7] dep signal_6 for signal_7\n",
            "10:12:37 [Train_7] arr signal_7\n",
            "10:12:42 [Train_7] dep signal_7 for Birmingham_Curzon_Street\n",
            "10:15:05 [Train_9] arr signal_3\n",
            "10:15:35 [Train_8] arr signal_5\n",
            "10:15:40 [Train_8] dep signal_5 for Birmingham_Interchange\n",
            "10:15:40 [Train_9] dep signal_3 for signal_4\n",
            "10:15:45 [Train_10] arr London_Old_Oak_Common\n",
            "10:16:10 [Train_10] dep London_Old_Oak_Common for signal_2\n",
            "10:16:10 [Train_11] dep London_Euston for signal_1\n",
            "10:18:06 [Train_7] arr Birmingham_Curzon_Street\n",
            "10:20:46 [Train_11] arr signal_1\n",
            "10:21:00 [Train_8] arr Birmingham_Interchange\n",
            "10:21:25 [Train_8] dep Birmingham_Interchange for signal_6\n",
            "10:25:58 [Train_9] arr signal_4\n",
            "10:26:03 [Train_9] dep signal_4 for signal_5\n",
            "10:26:39 [Train_10] arr signal_2\n",
            "10:26:44 [Train_10] dep signal_2 for signal_3\n",
            "10:26:44 [Train_11] dep signal_1 for London_Old_Oak_Common\n",
            "10:26:59 [Train_8] arr signal_6\n",
            "10:27:04 [Train_8] dep signal_6 for signal_7\n",
            "10:32:47 [Train_8] arr signal_7\n",
            "10:32:52 [Train_8] dep signal_7 for Birmingham_Curzon_Street\n",
            "10:37:00 [Train_9] arr signal_5\n",
            "10:37:05 [Train_9] dep signal_5 for Birmingham_Interchange\n",
            "10:38:01 [Train_8] arr Birmingham_Curzon_Street\n",
            "10:38:41 [Train_10] arr signal_3\n",
            "10:38:46 [Train_10] dep signal_3 for signal_4\n",
            "10:39:15 [Train_11] arr London_Old_Oak_Common\n",
            "10:39:40 [Train_11] dep London_Old_Oak_Common for signal_2\n",
            "10:42:36 [Train_9] arr Birmingham_Interchange\n",
            "10:43:01 [Train_9] dep Birmingham_Interchange for signal_6\n",
            "10:48:11 [Train_9] arr signal_6\n",
            "10:48:16 [Train_9] dep signal_6 for signal_7\n",
            "10:48:31 [Train_10] arr signal_4\n",
            "10:48:36 [Train_10] dep signal_4 for signal_5\n",
            "10:50:36 [Train_11] arr signal_2\n",
            "10:50:41 [Train_11] dep signal_2 for signal_3\n",
            "10:53:51 [Train_9] arr signal_7\n",
            "10:53:56 [Train_9] dep signal_7 for Birmingham_Curzon_Street\n",
            "10:59:31 [Train_9] arr Birmingham_Curzon_Street\n",
            "10:59:41 [Train_10] arr signal_5\n",
            "10:59:46 [Train_10] dep signal_5 for Birmingham_Interchange\n",
            "11:02:11 [Train_11] arr signal_3\n",
            "11:02:16 [Train_11] dep signal_3 for signal_4\n",
            "11:04:52 [Train_10] arr Birmingham_Interchange\n",
            "11:05:17 [Train_10] dep Birmingham_Interchange for signal_6\n",
            "11:10:21 [Train_10] arr signal_6\n",
            "11:10:26 [Train_10] dep signal_6 for signal_7\n",
            "11:15:59 [Train_10] arr signal_7\n",
            "11:16:04 [Train_10] dep signal_7 for Birmingham_Curzon_Street\n",
            "11:16:51 [Train_11] arr signal_4\n",
            "11:16:56 [Train_11] dep signal_4 for signal_5\n",
            "11:23:24 [Train_10] arr Birmingham_Curzon_Street\n",
            "11:28:03 [Train_11] arr signal_5\n",
            "11:28:08 [Train_11] dep signal_5 for Birmingham_Interchange\n",
            "11:33:23 [Train_11] arr Birmingham_Interchange\n",
            "11:33:48 [Train_11] dep Birmingham_Interchange for signal_6\n",
            "11:41:02 [Train_11] arr signal_6\n",
            "11:41:07 [Train_11] dep signal_6 for signal_7\n",
            "11:46:20 [Train_11] arr signal_7\n",
            "11:46:25 [Train_11] dep signal_7 for Birmingham_Curzon_Street\n",
            "11:52:35 [Train_11] arr Birmingham_Curzon_Street\n"
          ],
          "name": "stdout"
        }
      ]
    },
    {
      "cell_type": "markdown",
      "metadata": {
        "id": "yTV_STumoq3-"
      },
      "source": [
        "# Statistic collection for optimisation\n",
        "To collect the data the simulation is executed in iterrative manner where the number of signaling blocks varied from 1 to 15. A dynamic dataset is generated at every iteration. \n",
        "The peak-time is assumed to be 6:00 to 7:00 in the simulating process. The number of trains running through the 1 hour is calculated.\n"
      ]
    },
    {
      "cell_type": "code",
      "metadata": {
        "id": "lpZq9zUFed0l",
        "outputId": "ab66292a-33a7-4bdc-8ef7-8a2a80567bb8"
      },
      "source": [
        "\n",
        "no_signals = []\n",
        "no_trains = []\n",
        "avg_trv_time  = []\n",
        "\n",
        "for blks in range(1,15):\n",
        "    start_time =[]\n",
        "    train = []\n",
        "    end_time = []\n",
        "    #################################\n",
        "    dt = blocks(blks,dtt)\n",
        "    \n",
        "    for i in range(len(dt)):\n",
        "        dt.at[i, 'Drive Time']=int(timeTo(dt.at[i, 'Distance']))\n",
        "    dt['Dwell Time']=0\n",
        "    \n",
        "    for i in range(len(dt)):\n",
        "        if dt['From'][i] in stationss:\n",
        "            dt['Dwell Time'][i]=20\n",
        "        else:\n",
        "            dt['Dwell Time'][i]=0\n",
        "    #################################\n",
        "    import sys\n",
        "    old_stdout = sys.stdout\n",
        "    sys.stdout = open('stdout'+str(blks)+'.txt', 'w')\n",
        "\n",
        "    network=Network(\"06:00\", \"07:00\", 300)\n",
        "    network.runSimulation()\n",
        "\n",
        "    sys.stdout = old_stdout\n",
        "\n",
        "    with open('stdout'+str(blks)+'.txt') as f:\n",
        "        content = f.readlines()\n",
        "    f.close()\n",
        "    # you may also want to remove whitespace characters like `\\n` at the end of each line\n",
        "    content = [x.strip() for x in content]\n",
        "\n",
        "    for line in content:\n",
        "        ud = line.split()\n",
        "        n=len(ud) \n",
        "        if n==6:\n",
        "            if parseTime(ud[0])<parseTime(\"07:00\") and ud[2] == 'dep' and ud[3]=='London_Euston':\n",
        "                start_time.append(ud[0])\n",
        "                train.append(ud[1])\n",
        "        elif n==4:\n",
        "            if ud[2] == 'arr' and ud[3]=='Birmingham_Curzon_Street' and ud[1] in train:\n",
        "                end_time.append(ud[0])\n",
        "\n",
        "    df = pd.DataFrame(list(zip(train,start_time,end_time)),columns =['Train','start_time','end_time']) \n",
        "    df['travelling_time'] = 0\n",
        "    for i in range(0,len(df)):\n",
        "        df['travelling_time'][i] = parseTime(df['end_time'][i])-parseTime(df['start_time'][i])\n",
        "\n",
        "    no_signals.append(len(dt))\n",
        "    no_trains.append(len(df))\n",
        "    avg_trv_time.append(df['travelling_time'].sum()/len(df))\n",
        "\n",
        "data = pd.DataFrame(list(zip(no_signals,no_trains,avg_trv_time)),columns =['no_Signals','no_train','Average_trv_time']) "
      ],
      "execution_count": null,
      "outputs": [
        {
          "output_type": "stream",
          "text": [
            "115.69444444444444 260.3125 15660.689236111111\n",
            "115.69444444444444 260.3125 15660.689236111111\n",
            "115.69444444444444 260.3125 15660.689236111111\n",
            "115.69444444444444 260.3125 15660.689236111111\n",
            "115.69444444444444 260.3125 15660.689236111111\n",
            "115.69444444444444 260.3125 15660.689236111111\n",
            "115.69444444444444 260.3125 15660.689236111111\n",
            "115.69444444444444 260.3125 15660.689236111111\n",
            "115.69444444444444 260.3125 15660.689236111111\n",
            "115.69444444444444 260.3125 15660.689236111111\n",
            "115.69444444444444 260.3125 15660.689236111111\n",
            "115.69444444444444 260.3125 15660.689236111111\n",
            "115.69444444444444 260.3125 15660.689236111111\n",
            "115.69444444444444 260.3125 15660.689236111111\n",
            "115.69444444444444 260.3125 15660.689236111111\n",
            "115.69444444444444 260.3125 15660.689236111111\n",
            "115.69444444444444 260.3125 15660.689236111111\n",
            "115.69444444444444 260.3125 15660.689236111111\n",
            "115.69444444444444 260.3125 15660.689236111111\n",
            "115.69444444444444 260.3125 15660.689236111111\n",
            "115.69444444444444 260.3125 15660.689236111111\n",
            "115.69444444444444 260.3125 15660.689236111111\n",
            "115.69444444444444 260.3125 15660.689236111111\n",
            "115.69444444444444 260.3125 15660.689236111111\n",
            "115.69444444444444 260.3125 15660.689236111111\n",
            "115.69444444444444 260.3125 15660.689236111111\n",
            "115.69444444444444 260.3125 15660.689236111111\n",
            "115.69444444444444 260.3125 15660.689236111111\n",
            "115.69444444444444 260.3125 15660.689236111111\n",
            "115.69444444444444 260.3125 15660.689236111111\n",
            "115.69444444444444 260.3125 15660.689236111111\n",
            "115.69444444444444 260.3125 15660.689236111111\n",
            "115.69444444444444 260.3125 15660.689236111111\n",
            "115.69444444444444 260.3125 15660.689236111111\n"
          ],
          "name": "stdout"
        },
        {
          "output_type": "stream",
          "text": [
            "C:\\ProgramData\\Anaconda3\\lib\\site-packages\\ipykernel_launcher.py:18: SettingWithCopyWarning: \n",
            "A value is trying to be set on a copy of a slice from a DataFrame\n",
            "\n",
            "See the caveats in the documentation: https://pandas.pydata.org/pandas-docs/stable/user_guide/indexing.html#returning-a-view-versus-a-copy\n",
            "C:\\ProgramData\\Anaconda3\\lib\\site-packages\\ipykernel_launcher.py:20: SettingWithCopyWarning: \n",
            "A value is trying to be set on a copy of a slice from a DataFrame\n",
            "\n",
            "See the caveats in the documentation: https://pandas.pydata.org/pandas-docs/stable/user_guide/indexing.html#returning-a-view-versus-a-copy\n",
            "C:\\ProgramData\\Anaconda3\\lib\\site-packages\\ipykernel_launcher.py:51: SettingWithCopyWarning: \n",
            "A value is trying to be set on a copy of a slice from a DataFrame\n",
            "\n",
            "See the caveats in the documentation: https://pandas.pydata.org/pandas-docs/stable/user_guide/indexing.html#returning-a-view-versus-a-copy\n"
          ],
          "name": "stderr"
        },
        {
          "output_type": "stream",
          "text": [
            "115.69444444444444 260.3125 15660.689236111111\n",
            "115.69444444444444 260.3125 15660.689236111111\n",
            "115.69444444444444 260.3125 15660.689236111111\n",
            "115.69444444444444 260.3125 15660.689236111111\n",
            "115.69444444444444 260.3125 15660.689236111111\n",
            "115.69444444444444 260.3125 15660.689236111111\n",
            "115.69444444444444 260.3125 15660.689236111111\n",
            "115.69444444444444 260.3125 15660.689236111111\n",
            "115.69444444444444 260.3125 15660.689236111111\n",
            "115.69444444444444 260.3125 15660.689236111111\n",
            "115.69444444444444 260.3125 15660.689236111111\n",
            "115.69444444444444 260.3125 15660.689236111111\n",
            "115.69444444444444 260.3125 15660.689236111111\n",
            "115.69444444444444 260.3125 15660.689236111111\n",
            "115.69444444444444 260.3125 15660.689236111111\n",
            "115.69444444444444 260.3125 15660.689236111111\n",
            "115.69444444444444 260.3125 15660.689236111111\n",
            "115.69444444444444 260.3125 15660.689236111111\n",
            "115.69444444444444 260.3125 15660.689236111111\n",
            "115.69444444444444 260.3125 15660.689236111111\n",
            "115.69444444444444 260.3125 15660.689236111111\n",
            "115.69444444444444 260.3125 15660.689236111111\n",
            "115.69444444444444 260.3125 15660.689236111111\n",
            "115.69444444444444 260.3125 15660.689236111111\n",
            "115.69444444444444 260.3125 15660.689236111111\n",
            "115.69444444444444 260.3125 15660.689236111111\n",
            "115.69444444444444 260.3125 15660.689236111111\n",
            "115.69444444444444 260.3125 15660.689236111111\n",
            "115.69444444444444 260.3125 15660.689236111111\n",
            "115.69444444444444 260.3125 15660.689236111111\n",
            "115.69444444444444 260.3125 15660.689236111111\n",
            "115.69444444444444 260.3125 15660.689236111111\n",
            "115.69444444444444 260.3125 15660.689236111111\n",
            "115.69444444444444 260.3125 15660.689236111111\n",
            "115.69444444444444 260.3125 15660.689236111111\n",
            "115.69444444444444 260.3125 15660.689236111111\n",
            "115.69444444444444 260.3125 15660.689236111111\n",
            "115.69444444444444 260.3125 15660.689236111111\n",
            "115.69444444444444 260.3125 15660.689236111111\n",
            "115.69444444444444 260.3125 15660.689236111111\n",
            "115.69444444444444 260.3125 15660.689236111111\n",
            "115.69444444444444 260.3125 15660.689236111111\n",
            "115.69444444444444 260.3125 15660.689236111111\n",
            "115.69444444444444 260.3125 15660.689236111111\n",
            "115.69444444444444 260.3125 15660.689236111111\n",
            "115.69444444444444 260.3125 15660.689236111111\n",
            "115.69444444444444 260.3125 15660.689236111111\n",
            "115.69444444444444 260.3125 15660.689236111111\n",
            "115.69444444444444 260.3125 15660.689236111111\n",
            "115.69444444444444 260.3125 15660.689236111111\n",
            "115.69444444444444 260.3125 15660.689236111111\n",
            "115.69444444444444 260.3125 15660.689236111111\n",
            "115.69444444444444 260.3125 15660.689236111111\n",
            "115.69444444444444 260.3125 15660.689236111111\n",
            "115.69444444444444 260.3125 15660.689236111111\n",
            "115.69444444444444 260.3125 15660.689236111111\n",
            "115.69444444444444 260.3125 15660.689236111111\n",
            "115.69444444444444 260.3125 15660.689236111111\n",
            "115.69444444444444 260.3125 15660.689236111111\n",
            "115.69444444444444 260.3125 15660.689236111111\n",
            "115.69444444444444 260.3125 15660.689236111111\n",
            "115.69444444444444 260.3125 15660.689236111111\n",
            "115.69444444444444 260.3125 15660.689236111111\n",
            "115.69444444444444 260.3125 15660.689236111111\n",
            "115.69444444444444 260.3125 15660.689236111111\n",
            "115.69444444444444 260.3125 15660.689236111111\n",
            "115.69444444444444 260.3125 15660.689236111111\n",
            "115.69444444444444 260.3125 15660.689236111111\n",
            "115.69444444444444 260.3125 15660.689236111111\n",
            "115.69444444444444 260.3125 15660.689236111111\n",
            "115.69444444444444 260.3125 15660.689236111111\n",
            "115.69444444444444 260.3125 15660.689236111111\n",
            "115.69444444444444 260.3125 15660.689236111111\n",
            "115.69444444444444 260.3125 15660.689236111111\n",
            "115.69444444444444 260.3125 15660.689236111111\n",
            "115.69444444444444 260.3125 15660.689236111111\n",
            "115.69444444444444 260.3125 15660.689236111111\n",
            "115.69444444444444 260.3125 15660.689236111111\n",
            "115.69444444444444 260.3125 15660.689236111111\n",
            "115.69444444444444 260.3125 15660.689236111111\n",
            "115.69444444444444 260.3125 15660.689236111111\n",
            "115.69444444444444 260.3125 15660.689236111111\n",
            "115.69444444444444 260.3125 15660.689236111111\n",
            "115.69444444444444 260.3125 15660.689236111111\n",
            "115.69444444444444 260.3125 15660.689236111111\n",
            "115.69444444444444 260.3125 15660.689236111111\n",
            "115.69444444444444 260.3125 15660.689236111111\n",
            "115.69444444444444 260.3125 15660.689236111111\n",
            "115.69444444444444 260.3125 15660.689236111111\n",
            "115.69444444444444 260.3125 15660.689236111111\n",
            "115.69444444444444 260.3125 15660.689236111111\n",
            "115.69444444444444 260.3125 15660.689236111111\n",
            "115.69444444444444 260.3125 15660.689236111111\n",
            "115.69444444444444 260.3125 15660.689236111111\n",
            "115.69444444444444 260.3125 15660.689236111111\n",
            "115.69444444444444 260.3125 15660.689236111111\n",
            "115.69444444444444 260.3125 15660.689236111111\n",
            "115.69444444444444 260.3125 15660.689236111111\n",
            "115.69444444444444 260.3125 15660.689236111111\n",
            "115.69444444444444 260.3125 15660.689236111111\n",
            "115.69444444444444 260.3125 15660.689236111111\n",
            "115.69444444444444 260.3125 15660.689236111111\n",
            "115.69444444444444 260.3125 15660.689236111111\n",
            "115.69444444444444 260.3125 15660.689236111111\n",
            "115.69444444444444 260.3125 15660.689236111111\n",
            "115.69444444444444 260.3125 15660.689236111111\n",
            "115.69444444444444 260.3125 15660.689236111111\n",
            "115.69444444444444 260.3125 15660.689236111111\n",
            "115.69444444444444 260.3125 15660.689236111111\n",
            "115.69444444444444 260.3125 15660.689236111111\n",
            "115.69444444444444 260.3125 15660.689236111111\n",
            "115.69444444444444 260.3125 15660.689236111111\n",
            "115.69444444444444 260.3125 15660.689236111111\n",
            "115.69444444444444 260.3125 15660.689236111111\n",
            "115.69444444444444 260.3125 15660.689236111111\n",
            "115.69444444444444 260.3125 15660.689236111111\n",
            "115.69444444444444 260.3125 15660.689236111111\n",
            "115.69444444444444 260.3125 15660.689236111111\n",
            "115.69444444444444 260.3125 15660.689236111111\n",
            "115.69444444444444 260.3125 15660.689236111111\n",
            "115.69444444444444 260.3125 15660.689236111111\n",
            "115.69444444444444 260.3125 15660.689236111111\n",
            "115.69444444444444 260.3125 15660.689236111111\n",
            "115.69444444444444 260.3125 15660.689236111111\n",
            "115.69444444444444 260.3125 15660.689236111111\n",
            "115.69444444444444 260.3125 15660.689236111111\n",
            "115.69444444444444 260.3125 15660.689236111111\n",
            "115.69444444444444 260.3125 15660.689236111111\n",
            "115.69444444444444 260.3125 15660.689236111111\n",
            "115.69444444444444 260.3125 15660.689236111111\n",
            "115.69444444444444 260.3125 15660.689236111111\n",
            "115.69444444444444 260.3125 15660.689236111111\n",
            "115.69444444444444 260.3125 15660.689236111111\n",
            "115.69444444444444 260.3125 15660.689236111111\n",
            "115.69444444444444 260.3125 15660.689236111111\n",
            "115.69444444444444 260.3125 15660.689236111111\n",
            "115.69444444444444 260.3125 15660.689236111111\n",
            "115.69444444444444 260.3125 15660.689236111111\n",
            "115.69444444444444 260.3125 15660.689236111111\n",
            "115.69444444444444 260.3125 15660.689236111111\n",
            "115.69444444444444 260.3125 15660.689236111111\n",
            "115.69444444444444 260.3125 15660.689236111111\n",
            "115.69444444444444 260.3125 15660.689236111111\n",
            "115.69444444444444 260.3125 15660.689236111111\n",
            "115.69444444444444 260.3125 15660.689236111111\n",
            "115.69444444444444 260.3125 15660.689236111111\n",
            "115.69444444444444 260.3125 15660.689236111111\n",
            "115.69444444444444 260.3125 15660.689236111111\n",
            "115.69444444444444 260.3125 15660.689236111111\n",
            "115.69444444444444 260.3125 15660.689236111111\n",
            "115.69444444444444 260.3125 15660.689236111111\n",
            "115.69444444444444 260.3125 15660.689236111111\n",
            "115.69444444444444 260.3125 15660.689236111111\n",
            "115.69444444444444 260.3125 15660.689236111111\n",
            "115.69444444444444 260.3125 15660.689236111111\n"
          ],
          "name": "stdout"
        }
      ]
    },
    {
      "cell_type": "markdown",
      "metadata": {
        "id": "CnzNDECbpGMB"
      },
      "source": [
        "# Simulating Blocks\n",
        "For the simulation problem the train network is divided into k signaling block where k lies between 1 to 15. Additionally, number of trains per hour and average travel time is calculated.\n",
        "\n",
        "Here, it is to mention that for one signaling block between London Old Oak Common and Birmingham Interchange the total number of signaling block in the line sum ups to seven as there is a fixed number of one and two signaling blocks between first two and last two stations respectively. "
      ]
    },
    {
      "cell_type": "code",
      "metadata": {
        "id": "KD7RJRnZed0o",
        "outputId": "f9639582-1954-4db7-d74a-b39bf3be822a"
      },
      "source": [
        "data"
      ],
      "execution_count": null,
      "outputs": [
        {
          "output_type": "execute_result",
          "data": {
            "text/html": [
              "<div>\n",
              "<style scoped>\n",
              "    .dataframe tbody tr th:only-of-type {\n",
              "        vertical-align: middle;\n",
              "    }\n",
              "\n",
              "    .dataframe tbody tr th {\n",
              "        vertical-align: top;\n",
              "    }\n",
              "\n",
              "    .dataframe thead th {\n",
              "        text-align: right;\n",
              "    }\n",
              "</style>\n",
              "<table border=\"1\" class=\"dataframe\">\n",
              "  <thead>\n",
              "    <tr style=\"text-align: right;\">\n",
              "      <th></th>\n",
              "      <th>no_Signals</th>\n",
              "      <th>no_train</th>\n",
              "      <th>Average_trv_time</th>\n",
              "    </tr>\n",
              "  </thead>\n",
              "  <tbody>\n",
              "    <tr>\n",
              "      <th>0</th>\n",
              "      <td>7</td>\n",
              "      <td>2</td>\n",
              "      <td>4746.500000</td>\n",
              "    </tr>\n",
              "    <tr>\n",
              "      <th>1</th>\n",
              "      <td>8</td>\n",
              "      <td>3</td>\n",
              "      <td>4805.666667</td>\n",
              "    </tr>\n",
              "    <tr>\n",
              "      <th>2</th>\n",
              "      <td>9</td>\n",
              "      <td>3</td>\n",
              "      <td>4936.666667</td>\n",
              "    </tr>\n",
              "    <tr>\n",
              "      <th>3</th>\n",
              "      <td>10</td>\n",
              "      <td>4</td>\n",
              "      <td>5253.000000</td>\n",
              "    </tr>\n",
              "    <tr>\n",
              "      <th>4</th>\n",
              "      <td>11</td>\n",
              "      <td>4</td>\n",
              "      <td>5537.000000</td>\n",
              "    </tr>\n",
              "    <tr>\n",
              "      <th>5</th>\n",
              "      <td>12</td>\n",
              "      <td>4</td>\n",
              "      <td>5718.750000</td>\n",
              "    </tr>\n",
              "    <tr>\n",
              "      <th>6</th>\n",
              "      <td>13</td>\n",
              "      <td>4</td>\n",
              "      <td>6062.500000</td>\n",
              "    </tr>\n",
              "    <tr>\n",
              "      <th>7</th>\n",
              "      <td>14</td>\n",
              "      <td>4</td>\n",
              "      <td>6035.000000</td>\n",
              "    </tr>\n",
              "    <tr>\n",
              "      <th>8</th>\n",
              "      <td>15</td>\n",
              "      <td>5</td>\n",
              "      <td>6481.200000</td>\n",
              "    </tr>\n",
              "    <tr>\n",
              "      <th>9</th>\n",
              "      <td>16</td>\n",
              "      <td>5</td>\n",
              "      <td>7035.000000</td>\n",
              "    </tr>\n",
              "    <tr>\n",
              "      <th>10</th>\n",
              "      <td>17</td>\n",
              "      <td>5</td>\n",
              "      <td>6973.600000</td>\n",
              "    </tr>\n",
              "    <tr>\n",
              "      <th>11</th>\n",
              "      <td>18</td>\n",
              "      <td>5</td>\n",
              "      <td>7291.200000</td>\n",
              "    </tr>\n",
              "    <tr>\n",
              "      <th>12</th>\n",
              "      <td>19</td>\n",
              "      <td>5</td>\n",
              "      <td>7309.800000</td>\n",
              "    </tr>\n",
              "    <tr>\n",
              "      <th>13</th>\n",
              "      <td>20</td>\n",
              "      <td>5</td>\n",
              "      <td>7589.000000</td>\n",
              "    </tr>\n",
              "  </tbody>\n",
              "</table>\n",
              "</div>"
            ],
            "text/plain": [
              "    no_Signals  no_train  Average_trv_time\n",
              "0            7         2       4746.500000\n",
              "1            8         3       4805.666667\n",
              "2            9         3       4936.666667\n",
              "3           10         4       5253.000000\n",
              "4           11         4       5537.000000\n",
              "5           12         4       5718.750000\n",
              "6           13         4       6062.500000\n",
              "7           14         4       6035.000000\n",
              "8           15         5       6481.200000\n",
              "9           16         5       7035.000000\n",
              "10          17         5       6973.600000\n",
              "11          18         5       7291.200000\n",
              "12          19         5       7309.800000\n",
              "13          20         5       7589.000000"
            ]
          },
          "metadata": {
            "tags": []
          },
          "execution_count": 210
        }
      ]
    },
    {
      "cell_type": "markdown",
      "metadata": {
        "id": "VKr9oVTqrr3F"
      },
      "source": [
        "# Optimization function\n",
        "Linear regression is used on the above generated dataset to obtain the objective optimization function."
      ]
    },
    {
      "cell_type": "code",
      "metadata": {
        "id": "GhNRTU1Ied0u",
        "outputId": "840b68d7-82b9-4f20-ad24-b8a303bc5224"
      },
      "source": [
        "import statsmodels.api as sm\n",
        "\n",
        "X = data[['no_Signals','no_train']] \n",
        "Y = data['Average_trv_time']\n",
        "\n",
        "X = sm.add_constant(X) \n",
        "\n",
        "model = sm.OLS(Y, X).fit()\n",
        "predictions = model.predict(X) \n",
        "\n",
        "print_model = model.summary()\n",
        "print(print_model)"
      ],
      "execution_count": null,
      "outputs": [
        {
          "output_type": "stream",
          "text": [
            "                            OLS Regression Results                            \n",
            "==============================================================================\n",
            "Dep. Variable:       Average_trv_time   R-squared:                       0.983\n",
            "Model:                            OLS   Adj. R-squared:                  0.980\n",
            "Method:                 Least Squares   F-statistic:                     318.4\n",
            "Date:                Sun, 10 May 2020   Prob (F-statistic):           1.84e-10\n",
            "Time:                        22:17:45   Log-Likelihood:                -87.480\n",
            "No. Observations:                  14   AIC:                             181.0\n",
            "Df Residuals:                      11   BIC:                             182.9\n",
            "Df Model:                           2                                         \n",
            "Covariance Type:            nonrobust                                         \n",
            "==============================================================================\n",
            "                 coef    std err          t      P>|t|      [0.025      0.975]\n",
            "------------------------------------------------------------------------------\n",
            "const       2878.0914    188.761     15.247      0.000    2462.630    3293.553\n",
            "no_Signals   227.1258     22.632     10.035      0.000     177.312     276.939\n",
            "no_train      44.0488     99.739      0.442      0.667    -175.474     263.572\n",
            "==============================================================================\n",
            "Omnibus:                        4.151   Durbin-Watson:                   1.892\n",
            "Prob(Omnibus):                  0.125   Jarque-Bera (JB):                1.968\n",
            "Skew:                           0.894   Prob(JB):                        0.374\n",
            "Kurtosis:                       3.423   Cond. No.                         79.6\n",
            "==============================================================================\n",
            "\n",
            "Warnings:\n",
            "[1] Standard Errors assume that the covariance matrix of the errors is correctly specified.\n"
          ],
          "name": "stdout"
        },
        {
          "output_type": "stream",
          "text": [
            "C:\\ProgramData\\Anaconda3\\lib\\site-packages\\scipy\\stats\\stats.py:1535: UserWarning: kurtosistest only valid for n>=20 ... continuing anyway, n=14\n",
            "  \"anyway, n=%i\" % int(n))\n"
          ],
          "name": "stderr"
        }
      ]
    },
    {
      "cell_type": "markdown",
      "metadata": {
        "id": "dp7zmJ3ved0y"
      },
      "source": [
        "## The derived objective function from the linear regression\n",
        "\n",
        "travel_time = 2878.0914 + 227.1258*(no_Signals)+44.0488*(no_train)"
      ]
    },
    {
      "cell_type": "markdown",
      "metadata": {
        "id": "aomgYn58ed0z"
      },
      "source": [
        "## Optimising average Travel-time"
      ]
    },
    {
      "cell_type": "code",
      "metadata": {
        "id": "Clv1Y3nved06"
      },
      "source": [
        "import pulp"
      ],
      "execution_count": null,
      "outputs": []
    },
    {
      "cell_type": "code",
      "metadata": {
        "id": "DmJzxpkaed0-",
        "outputId": "087afe78-cba2-4485-bd50-7777add4895f"
      },
      "source": [
        "prob = pulp.LpProblem(\"Average time\",pulp.LpMinimize)"
      ],
      "execution_count": null,
      "outputs": [
        {
          "output_type": "stream",
          "text": [
            "C:\\ProgramData\\Anaconda3\\lib\\site-packages\\pulp\\pulp.py:1114: UserWarning: Spaces are not permitted in the name. Converted to '_'\n",
            "  warnings.warn(\"Spaces are not permitted in the name. Converted to '_'\")\n"
          ],
          "name": "stderr"
        }
      ]
    },
    {
      "cell_type": "code",
      "metadata": {
        "id": "usHldoK3ed1E"
      },
      "source": [
        "x_no_train = pulp.LpVariable('no_train', lowBound=2,upBound=5, cat=pulp.LpInteger)\n",
        "y_no_Signals = pulp.LpVariable('no_Signals', lowBound=7,upBound=20, cat=pulp.LpInteger)"
      ],
      "execution_count": null,
      "outputs": []
    },
    {
      "cell_type": "code",
      "metadata": {
        "id": "7DfZ4srHed1I"
      },
      "source": [
        "prob +=2878.0914 + 44.0488* x_no_train + 227.1258* y_no_Signals, \"Z\""
      ],
      "execution_count": null,
      "outputs": []
    },
    {
      "cell_type": "code",
      "metadata": {
        "id": "4qOu9-loed1M"
      },
      "source": [
        "prob +=2878.0914 + 44.0488* x_no_train + 227.1258* y_no_Signals >= 4746"
      ],
      "execution_count": null,
      "outputs": []
    },
    {
      "cell_type": "code",
      "metadata": {
        "id": "OlxmqU29ed1P"
      },
      "source": [
        "prob +=2878.0914 + 44.0488* x_no_train + 227.1258* y_no_Signals <= 7589"
      ],
      "execution_count": null,
      "outputs": []
    },
    {
      "cell_type": "markdown",
      "metadata": {
        "id": "Ou97_gVssazt"
      },
      "source": [
        "## The optimization constraints are formulated below"
      ]
    },
    {
      "cell_type": "code",
      "metadata": {
        "id": "kQ8Vytb3ed1V",
        "outputId": "1611ce19-d46b-4133-c719-f53d8e9ca6b0"
      },
      "source": [
        "prob"
      ],
      "execution_count": null,
      "outputs": [
        {
          "output_type": "execute_result",
          "data": {
            "text/plain": [
              "Average_time:\n",
              "MINIMIZE\n",
              "227.1258*no_Signals + 44.0488*no_train + 2878.0914\n",
              "SUBJECT TO\n",
              "_C1: 227.1258 no_Signals + 44.0488 no_train >= 1867.9086\n",
              "\n",
              "_C2: 227.1258 no_Signals + 44.0488 no_train <= 4710.9086\n",
              "\n",
              "VARIABLES\n",
              "7 <= no_Signals <= 20 Integer\n",
              "2 <= no_train <= 5 Integer"
            ]
          },
          "metadata": {
            "tags": []
          },
          "execution_count": 223
        }
      ]
    },
    {
      "cell_type": "code",
      "metadata": {
        "id": "XVwyzB4zed1c",
        "outputId": "2197f0de-af0b-4310-9348-c389b51a9c10"
      },
      "source": [
        "prob.solve()"
      ],
      "execution_count": null,
      "outputs": [
        {
          "output_type": "execute_result",
          "data": {
            "text/plain": [
              "1"
            ]
          },
          "metadata": {
            "tags": []
          },
          "execution_count": 224
        }
      ]
    },
    {
      "cell_type": "code",
      "metadata": {
        "id": "vggfxKUyed1i",
        "outputId": "65c97b0c-c0a6-49de-83e8-b9ed7ca2d415"
      },
      "source": [
        "prob.solve()\n",
        "pulp.LpStatus[prob.status]"
      ],
      "execution_count": null,
      "outputs": [
        {
          "output_type": "execute_result",
          "data": {
            "text/plain": [
              "'Optimal'"
            ]
          },
          "metadata": {
            "tags": []
          },
          "execution_count": 225
        }
      ]
    },
    {
      "cell_type": "code",
      "metadata": {
        "id": "Y4IC8sU-ed1l",
        "outputId": "3ae42e69-39b0-4e0f-b2f1-1eb96d4dc51f"
      },
      "source": [
        "for variable in prob.variables():\n",
        "    print (variable.name, variable.varValue)"
      ],
      "execution_count": null,
      "outputs": [
        {
          "output_type": "stream",
          "text": [
            "no_Signals 8.0\n",
            "no_train 2.0\n"
          ],
          "name": "stdout"
        }
      ]
    },
    {
      "cell_type": "markdown",
      "metadata": {
        "id": "faQ5R9c9s0It"
      },
      "source": [
        "### The optimized minimum travel time"
      ]
    },
    {
      "cell_type": "code",
      "metadata": {
        "id": "jVMORjTued1r",
        "outputId": "5b18c359-766d-4696-afd5-0ed6678a54ad"
      },
      "source": [
        "pulp.value(prob.objective)"
      ],
      "execution_count": null,
      "outputs": [
        {
          "output_type": "execute_result",
          "data": {
            "text/plain": [
              "4783.1954"
            ]
          },
          "metadata": {
            "tags": []
          },
          "execution_count": 227
        }
      ]
    },
    {
      "cell_type": "code",
      "metadata": {
        "id": "9BcEF9IYed1w"
      },
      "source": [
        ""
      ],
      "execution_count": null,
      "outputs": []
    }
  ]
}